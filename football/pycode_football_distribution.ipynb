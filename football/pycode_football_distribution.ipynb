{
 "cells": [
  {
   "cell_type": "code",
   "execution_count": 1,
   "metadata": {},
   "outputs": [],
   "source": [
    "import sys\n",
    "# use the following on r2d2\n",
    "qlvldir = \"/home/aardvark/code/typetokenQLVL\"\n",
    "# qlvldir = \"/home/enzocxt/Projects/QLVL/typetoken_workdir/typetokenQLVL\"\n",
    "sys.path.append(qlvldir)"
   ]
  },
  {
   "cell_type": "code",
   "execution_count": 2,
   "metadata": {},
   "outputs": [],
   "source": [
    "import pandas as pd"
   ]
  },
  {
   "cell_type": "code",
   "execution_count": 3,
   "metadata": {},
   "outputs": [],
   "source": [
    "from qlvl.conf import ConfigLoader\n",
    "from qlvl.utils import pickle, unpickle\n",
    "from qlvl import Vocab, TypeTokenMatrix\n",
    "from qlvl import ItemFreqHandler, ColFreqHandler, TokenHandler\n",
    "from qlvl import compute_association, compute_cosine, compute_distance, compute_simrank\n",
    "from qlvl.basics.mxcalc import compute_token_weights, compute_token_vectors\n",
    "from collections import Counter, defaultdict\n",
    "from qlvl.models.typetoken import build_tc_weight_matrix\n",
    "from scipy.spatial.distance import squareform\n",
    "from qlvl.basics.terms import TypeNode\n",
    "from sklearn.manifold import MDS"
   ]
  },
  {
   "cell_type": "markdown",
   "metadata": {},
   "source": [
    "Parameter settings\n",
    "Create an object conf to tune settings. During this initialization, conf has already read the default settings file (in /home/aardvark/code/typetokenQLVL/qlvl/config.ini) consisting default parameter settings."
   ]
  },
  {
   "cell_type": "code",
   "execution_count": 14,
   "metadata": {},
   "outputs": [],
   "source": [
    "conf = ConfigLoader()\n",
    "default_settings = conf.settings"
   ]
  },
  {
   "cell_type": "code",
   "execution_count": 15,
   "metadata": {},
   "outputs": [
    {
     "name": "stdout",
     "output_type": "stream",
     "text": [
      "WARNING: Not provide the temporary path!\n",
      "Using the default one: '~/tmp'!\n",
      "([^\\t]+)\\t(\\w)[^\\t]+\\t([^\\t]+)\n",
      "word,pos,lemma\n",
      "lemma/pos lemma/pos lemma/pos/fid/lid\n",
      "utf-8\n",
      "utf-8\n",
      "/home/projects/semmetrix/chilecto/corp/giga20181203\n",
      "/home/projects/semmetrix/chilecto/model/football\n"
     ]
    }
   ],
   "source": [
    "# use your own file path\n",
    "rootdir = \"/home/projects/semmetrix/chilecto/model/football\"\n",
    "new_conf = \"{}/config.football.ini\".format(rootdir)\n",
    "settings = conf.update_config(new_conf)\n",
    "\n",
    "# always print values to check before you use\n",
    "print(settings['line-machine'])\n",
    "print(settings['line-format'])\n",
    "print(settings['type'], settings['colloc'], settings['token'])\n",
    "print(settings['file-encoding'])\n",
    "print(settings['outfile-encoding'])\n",
    "\n",
    "# corpus_name = 'ConceptsJocelyne'\n",
    "corpus_path = settings['corpus-path']\n",
    "print(corpus_path)\n",
    "# settings['output-path'] = \"/home/semmetrix/collmtx-stefano/\"\n",
    "output_path = settings['output-path']\n",
    "print(output_path)"
   ]
  },
  {
   "cell_type": "code",
   "execution_count": 16,
   "metadata": {},
   "outputs": [],
   "source": [
    "fnames_ml = \"/home/semmetrix/chilecto/corp/giga20181203/ml_250m.fnames\"\n",
    "fnames_tw = \"/home/semmetrix/chilecto/corp/giga20181203/tw_250m.fnames\"\n",
    "fnames_mltw = \"/home/semmetrix/chilecto/corp/giga20181203/ml_tw_500m.fnames\"\n",
    "fnames_full = fnames_mltw\n",
    "\n",
    "corpus_t1 = 'giga_mltw_t1'\n",
    "corpus_t2 = 'giga_mltw_t2'\n",
    "corpus_full = 'giga_mltw_full'"
   ]
  },
  {
   "cell_type": "markdown",
   "metadata": {},
   "source": [
    "## Load files and matrices"
   ]
  },
  {
   "cell_type": "markdown",
   "metadata": {},
   "source": [
    "### Mainland Chinese + Taiwan Chinese vocab (500m)"
   ]
  },
  {
   "cell_type": "code",
   "execution_count": 17,
   "metadata": {},
   "outputs": [
    {
     "name": "stdout",
     "output_type": "stream",
     "text": [
      "Total items: 2495280\n",
      "Total freqs: 501064226\n",
      "count  2.495280e+06\n",
      "mean   2.008048e+02\n",
      "std    2.685521e+04\n",
      "min    1.000000e+00\n",
      "25%    1.000000e+00\n",
      "50%    2.000000e+00\n",
      "75%    4.000000e+00\n",
      "max    3.180893e+07\n"
     ]
    }
   ],
   "source": [
    "vocab_fname = \"{}/giga_mltw_full.vocab\".format(output_path)\n",
    "vocab = Vocab.load(vocab_fname)\n",
    "print(vocab.describe())"
   ]
  },
  {
   "cell_type": "markdown",
   "metadata": {},
   "source": [
    "### mainland chinese vocab (250m)"
   ]
  },
  {
   "cell_type": "code",
   "execution_count": 38,
   "metadata": {},
   "outputs": [
    {
     "name": "stdout",
     "output_type": "stream",
     "text": [
      "Total items: 1405671\n",
      "Total freqs: 249980195\n",
      "count  1.405671e+06\n",
      "mean   1.778369e+02\n",
      "std    1.811502e+04\n",
      "min    1.000000e+00\n",
      "25%    1.000000e+00\n",
      "50%    2.000000e+00\n",
      "75%    5.000000e+00\n",
      "max    1.440590e+07\n"
     ]
    }
   ],
   "source": [
    "vocab_ml_fname = \"{}/ml250.type.vocab\".format(output_path)\n",
    "vocab_ml = Vocab.load(vocab_ml_fname)\n",
    "print(vocab_ml.describe())"
   ]
  },
  {
   "cell_type": "markdown",
   "metadata": {},
   "source": [
    "### taiwan chinese vocab (250m)"
   ]
  },
  {
   "cell_type": "code",
   "execution_count": 39,
   "metadata": {},
   "outputs": [
    {
     "name": "stdout",
     "output_type": "stream",
     "text": [
      "Total items: 1493367\n",
      "Total freqs: 251084031\n",
      "count  1.493367e+06\n",
      "mean   1.681328e+02\n",
      "std    1.762829e+04\n",
      "min    1.000000e+00\n",
      "25%    1.000000e+00\n",
      "50%    2.000000e+00\n",
      "75%    4.000000e+00\n",
      "max    1.740304e+07\n"
     ]
    }
   ],
   "source": [
    "vocab_tw_fname = \"{}/tw250.type.vocab\".format(output_path)\n",
    "vocab_tw = Vocab.load(vocab_tw_fname)\n",
    "print(vocab_tw.describe())"
   ]
  },
  {
   "cell_type": "markdown",
   "metadata": {},
   "source": [
    "## Concept_variant"
   ]
  },
  {
   "cell_type": "code",
   "execution_count": 10,
   "metadata": {},
   "outputs": [],
   "source": [
    "file_name = \"/home/projects/semmetrix/chilecto/model/football/football.csv\""
   ]
  },
  {
   "cell_type": "code",
   "execution_count": 11,
   "metadata": {},
   "outputs": [],
   "source": [
    "data = pd.read_csv(file_name,sep=\",\")"
   ]
  },
  {
   "cell_type": "code",
   "execution_count": 12,
   "metadata": {},
   "outputs": [],
   "source": [
    "ConceptsVariants = {}\n",
    "for idx, row in data.iterrows():\n",
    "    key = row['concept'] \n",
    "    value = row['variant'] \n",
    "    ConceptsVariants[key]=[item for item in value.split(',')]"
   ]
  },
  {
   "cell_type": "code",
   "execution_count": 13,
   "metadata": {
    "scrolled": true
   },
   "outputs": [
    {
     "data": {
      "text/plain": [
       "{'attacker': ['前锋', '锋线', '射手'],\n",
       " 'kickoff': ['开球', '开赛'],\n",
       " 'offside': ['越位'],\n",
       " 'goalkeeper': ['守门员', '门将'],\n",
       " 'goal': ['进球', '得分', '破门'],\n",
       " 'hands': ['手球', '手触球'],\n",
       " 'cornerkick': ['角球'],\n",
       " 'foul': ['犯规'],\n",
       " 'referee': ['裁判', '主裁判', '主裁', '黑衣人'],\n",
       " 'penalitykick': ['点球', '极刑', '十二码球', '十二码罚球'],\n",
       " 'counterattack': ['反击', '反攻'],\n",
       " 'defender': ['后卫', '防守队员', '防守球员', '防守端', '防线'],\n",
       " 'cross': ['横传', '传中', '长传'],\n",
       " 'freekick': ['任意球', '自由球'],\n",
       " 'game': ['比赛', '赛事', '交锋', '竞赛', '球赛', '对阵', '对垒']}"
      ]
     },
     "execution_count": 13,
     "metadata": {},
     "output_type": "execute_result"
    }
   ],
   "source": [
    "ConceptsVariants"
   ]
  },
  {
   "cell_type": "markdown",
   "metadata": {},
   "source": [
    "## Variant frequency"
   ]
  },
  {
   "cell_type": "markdown",
   "metadata": {},
   "source": [
    "### variant freq"
   ]
  },
  {
   "cell_type": "markdown",
   "metadata": {},
   "source": [
    "Search variant with all tags"
   ]
  },
  {
   "cell_type": "code",
   "execution_count": 18,
   "metadata": {},
   "outputs": [
    {
     "data": {
      "text/plain": [
       "{'反击/VC': 6026, '反击/Nv': 1198}"
      ]
     },
     "execution_count": 18,
     "metadata": {},
     "output_type": "execute_result"
    }
   ],
   "source": [
    "def search_variant(variant, vocab_dict):\n",
    "    \"\"\"Search keys of vocab_dict contains variant\n",
    "    \n",
    "    \"\"\"\n",
    "    output = {}\n",
    "    for key in vocab_dict.keys():\n",
    "        word = key.split('/')[0]\n",
    "        if variant == word:\n",
    "            output[key] = vocab_dict[key]\n",
    "            \n",
    "    return output\n",
    "# Test\n",
    "search_variant('反击', vocab)"
   ]
  },
  {
   "cell_type": "code",
   "execution_count": 122,
   "metadata": {
    "scrolled": false
   },
   "outputs": [
    {
     "name": "stdout",
     "output_type": "stream",
     "text": [
      "attacker :\n",
      "  -  进攻队员\n",
      "  -  进攻球员\n",
      "  -  前锋\n",
      "     *    前锋/Na: ML=  7091   TW=  2398\n",
      "  -  锋线\n",
      "     *    锋线/Na: ML=   774   TW=    14\n",
      "  -  射手\n",
      "     *    射手/Na: ML=  2273   TW=   355\n",
      "\n",
      "kickoff :\n",
      "  -  开球\n",
      "     *    开球/Nv: ML=    60   TW=   302\n",
      "     *    开球/VA: ML=   494   TW=   846\n",
      "  -  开赛\n",
      "     *    开赛/Nv: ML=  8470   TW=  2771\n",
      "     *    开赛/VH: ML=   135   TW=    28\n",
      "\n",
      "offside :\n",
      "  -  越位\n",
      "     *    越位/VA: ML=   589   TW=    65\n",
      "\n",
      "goalkeeper :\n",
      "  -  守门员\n",
      "     *   守门员/Na: ML=  3510   TW=   217\n",
      "  -  门将\n",
      "     *    门将/Na: ML=  3970   TW=   487\n",
      "\n",
      "goal :\n",
      "  -  进球\n",
      "     *    进球/Na: ML=  5214   TW=   549\n",
      "  -  得分\n",
      "     *    得分/Nv: ML=  7403   TW=  3222\n",
      "     *    得分/VH: ML=   174   TW=    53\n",
      "     *    得分/Na: ML=   932   TW=   413\n",
      "  -  破门\n",
      "     *    破门/Nb: ML=  2818   TW=    63\n",
      "     *    破门/Na: ML=   194   TW=     9\n",
      "\n",
      "hands :\n",
      "  -  手球\n",
      "     *    手球/Na: ML=  2348   TW=   480\n",
      "  -  手触球\n",
      "     *   手触球/Na: ML=     4   TW=     1\n",
      "\n",
      "cornerkick :\n",
      "  -  角球\n",
      "     *    角球/Na: ML=  1611   TW=    58\n",
      "\n",
      "foul :\n",
      "  -  犯规\n",
      "     *    犯规/Nv: ML=   572   TW=   193\n",
      "     *    犯规/VA: ML=  2757   TW=   687\n",
      "\n",
      "referee :\n",
      "  -  裁判\n",
      "     *    裁判/Na: ML= 10564   TW=  4166\n",
      "     *    裁判/VE: ML=   272   TW=   143\n",
      "  -  主裁判\n",
      "     *   主裁判/VE: ML=    38   TW=     2\n",
      "  -  主裁\n",
      "     *    主裁/VE: ML=   236   TW=     2\n",
      "  -  黑衣人\n",
      "\n",
      "penalitykick :\n",
      "  -  点球\n",
      "     *    点球/Na: ML=  3400   TW=     8\n",
      "  -  极刑\n",
      "     *    极刑/Na: ML=   193   TW=   194\n",
      "  -  十二码球\n",
      "     *  十二码球/Na: ML=     0   TW=    86\n",
      "  -  十二码罚球\n",
      "\n",
      "counterattack :\n",
      "  -  防守反击\n",
      "  -  防反\n",
      "     *    防反/Na: ML=    16   TW=     0\n",
      "  -  反击\n",
      "     *    反击/VC: ML=  3811   TW=  2215\n",
      "     *    反击/Nv: ML=   839   TW=   359\n",
      "  -  反攻\n",
      "     *    反攻/VC: ML=   583   TW=   733\n",
      "     *    反攻/Nv: ML=   407   TW=   395\n",
      "\n",
      "defender :\n",
      "  -  后卫\n",
      "     *    后卫/Na: ML=  6388   TW=  1554\n",
      "  -  防守队员\n",
      "  -  防守球员\n",
      "  -  防守端\n",
      "  -  防线\n",
      "     *    防线/Na: ML=  2056   TW=   870\n",
      "\n",
      "cross :\n",
      "  -  横传\n",
      "     *    横传/Nb: ML=    86   TW=    16\n",
      "  -  传中\n",
      "     *    传中/Nb: ML=   127   TW=     5\n",
      "  -  长传\n",
      "     *    长传/Nb: ML=   224   TW=    38\n",
      "  -  转移\n",
      "     *    转移/VD: ML=  2048   TW=  1510\n",
      "     *    转移/Nv: ML=  8059   TW=  6122\n",
      "     *    转移/VC: ML=     1   TW=     0\n",
      "\n",
      "freekick :\n",
      "  -  任意球\n",
      "     *   任意球/Na: ML=  1901   TW=     3\n",
      "  -  自由球\n",
      "     *   自由球/Na: ML=     8   TW=   172\n",
      "\n",
      "game :\n",
      "  -  比赛\n",
      "     *    比赛/VA: ML=  9625   TW=  1784\n",
      "     *    比赛/Na: ML=256270   TW= 58828\n",
      "     *    比赛/Nv: ML=  6378   TW=  2119\n",
      "  -  赛事\n",
      "     *    赛事/Na: ML= 18049   TW=  1842\n",
      "  -  交锋\n",
      "     *    交锋/VA: ML=  3694   TW=   842\n",
      "  -  竞赛\n",
      "     *    竞赛/VA: ML=     0   TW=     1\n",
      "     *    竞赛/Na: ML= 13361   TW= 12529\n",
      "  -  球赛\n",
      "     *    球赛/Na: ML=  1988   TW=  2643\n",
      "  -  对阵\n",
      "     *    对阵/VA: ML=  1954   TW=   325\n",
      "     *    对阵/Nv: ML=  1203   TW=    35\n",
      "  -  对垒\n",
      "     *    对垒/VH: ML=   871   TW=   651\n",
      "\n"
     ]
    }
   ],
   "source": [
    "for key in ConceptsVariants:\n",
    "    print(key, ':')\n",
    "    for var in ConceptsVariants[key]:\n",
    "        print('  - ', var)\n",
    "        frq_ml = search_variant(var, vocab_ml)\n",
    "        frq_tw = search_variant(var, vocab_tw)\n",
    "        for key_2 in list(set(list(frq_ml.keys()) + list(frq_tw.keys()))):\n",
    "            if key_2 in frq_ml.keys():\n",
    "                f1 = frq_ml[key_2]\n",
    "            else:\n",
    "                f1 = 0\n",
    "            if key_2 in frq_tw.keys():\n",
    "                f2 = frq_tw[key_2]\n",
    "            else:\n",
    "                f2 = 0\n",
    "                \n",
    "            p_str = '     * %8s: ML=%6d   TW=%6d' % (key_2, f1, f2)\n",
    "            print(p_str)\n",
    "    print('')"
   ]
  },
  {
   "cell_type": "code",
   "execution_count": 110,
   "metadata": {},
   "outputs": [
    {
     "data": {
      "text/plain": [
       "[]"
      ]
     },
     "execution_count": 110,
     "metadata": {},
     "output_type": "execute_result"
    }
   ],
   "source": []
  },
  {
   "cell_type": "code",
   "execution_count": 73,
   "metadata": {},
   "outputs": [
    {
     "name": "stdout",
     "output_type": "stream",
     "text": [
      "attacker :\n",
      "    进攻队员/Na: 0\n",
      "    进攻球员/Na: 0\n",
      "    前锋/Na: 9489\n",
      "    锋线/Na: 788\n",
      "    射手/Na: 2628\n",
      "kickoff :\n",
      "    开球/Na: 0\n",
      "    开赛/Na: 0\n",
      "offside :\n",
      "    越位/Na: 0\n",
      "goalkeeper :\n",
      "    守门员/Na: 3727\n",
      "    门将/Na: 4457\n",
      "goal :\n",
      "    进球/Na: 5763\n",
      "    得分/Na: 1345\n",
      "    破门/Na: 203\n",
      "hands :\n",
      "    手球/Na: 2828\n",
      "    手触球/Na: 5\n",
      "cornerkick :\n",
      "    角球/Na: 1669\n",
      "foul :\n",
      "    犯规/Na: 0\n",
      "referee :\n",
      "    裁判/Na: 14730\n",
      "    主裁判/Na: 0\n",
      "    主裁/Na: 0\n",
      "    黑衣人/Na: 0\n",
      "penalitykick :\n",
      "    点球/Na: 3408\n",
      "    极刑/Na: 387\n",
      "    十二码球/Na: 86\n",
      "    十二码罚球/Na: 0\n",
      "counterattack :\n",
      "    防守反击/Na: 0\n",
      "    防反/Na: 16\n",
      "    反击/Na: 0\n",
      "    反攻/Na: 0\n",
      "defender :\n",
      "    后卫/Na: 7942\n",
      "    防守队员/Na: 0\n",
      "    防守球员/Na: 0\n",
      "    防守端/Na: 0\n",
      "    防线/Na: 2926\n",
      "cross :\n",
      "    横传/Na: 0\n",
      "    传中/Na: 0\n",
      "    长传/Na: 0\n",
      "    转移/Na: 0\n",
      "freekick :\n",
      "    任意球/Na: 1904\n",
      "    自由球/Na: 180\n",
      "game :\n",
      "    比赛/Na: 315098\n",
      "    赛事/Na: 19891\n",
      "    交锋/Na: 0\n",
      "    竞赛/Na: 25890\n",
      "    球赛/Na: 4631\n",
      "    对阵/Na: 0\n",
      "    对垒/Na: 0\n"
     ]
    }
   ],
   "source": [
    "for key in ConceptsVariants:\n",
    "    print(key, ':')\n",
    "    for i in ConceptsVariants[key]:\n",
    "        if i in vocab:\n",
    "            frq = vocab[i]\n",
    "        else:\n",
    "            frq = 0\n",
    "            \n",
    "        p_str = '    %s: %d' % (i, frq)\n",
    "        print(p_str)"
   ]
  },
  {
   "cell_type": "markdown",
   "metadata": {},
   "source": [
    "### variant freq in ML / TW"
   ]
  },
  {
   "cell_type": "code",
   "execution_count": 74,
   "metadata": {
    "scrolled": false
   },
   "outputs": [
    {
     "name": "stdout",
     "output_type": "stream",
     "text": [
      "attacker :\n",
      "    进攻队员/Na: \tML=0 \tTW=0\n",
      "    进攻球员/Na: \tML=0 \tTW=0\n",
      "    前锋/Na: \tML=7091 \tTW=2398\n",
      "    锋线/Na: \tML=774 \tTW=14\n",
      "    射手/Na: \tML=2273 \tTW=355\n",
      "kickoff :\n",
      "    开球/Na: \tML=0 \tTW=0\n",
      "    开赛/Na: \tML=0 \tTW=0\n",
      "offside :\n",
      "    越位/Na: \tML=0 \tTW=0\n",
      "goalkeeper :\n",
      "    守门员/Na: \tML=3510 \tTW=217\n",
      "    门将/Na: \tML=3970 \tTW=487\n",
      "goal :\n",
      "    进球/Na: \tML=5214 \tTW=549\n",
      "    得分/Na: \tML=932 \tTW=413\n",
      "    破门/Na: \tML=194 \tTW=9\n",
      "hands :\n",
      "    手球/Na: \tML=2348 \tTW=480\n",
      "    手触球/Na: \tML=4 \tTW=1\n",
      "cornerkick :\n",
      "    角球/Na: \tML=1611 \tTW=58\n",
      "foul :\n",
      "    犯规/Na: \tML=0 \tTW=0\n",
      "referee :\n",
      "    裁判/Na: \tML=10564 \tTW=4166\n",
      "    主裁判/Na: \tML=0 \tTW=0\n",
      "    主裁/Na: \tML=0 \tTW=0\n",
      "    黑衣人/Na: \tML=0 \tTW=0\n",
      "penalitykick :\n",
      "    点球/Na: \tML=3400 \tTW=8\n",
      "    极刑/Na: \tML=193 \tTW=194\n",
      "    十二码球/Na: \tML=0 \tTW=86\n",
      "    十二码罚球/Na: \tML=0 \tTW=0\n",
      "counterattack :\n",
      "    防守反击/Na: \tML=0 \tTW=0\n",
      "    防反/Na: \tML=16 \tTW=0\n",
      "    反击/Na: \tML=0 \tTW=0\n",
      "    反攻/Na: \tML=0 \tTW=0\n",
      "defender :\n",
      "    后卫/Na: \tML=6388 \tTW=1554\n",
      "    防守队员/Na: \tML=0 \tTW=0\n",
      "    防守球员/Na: \tML=0 \tTW=0\n",
      "    防守端/Na: \tML=0 \tTW=0\n",
      "    防线/Na: \tML=2056 \tTW=870\n",
      "cross :\n",
      "    横传/Na: \tML=0 \tTW=0\n",
      "    传中/Na: \tML=0 \tTW=0\n",
      "    长传/Na: \tML=0 \tTW=0\n",
      "    转移/Na: \tML=0 \tTW=0\n",
      "freekick :\n",
      "    任意球/Na: \tML=1901 \tTW=3\n",
      "    自由球/Na: \tML=8 \tTW=172\n",
      "game :\n",
      "    比赛/Na: \tML=256270 \tTW=58828\n",
      "    赛事/Na: \tML=18049 \tTW=1842\n",
      "    交锋/Na: \tML=0 \tTW=0\n",
      "    竞赛/Na: \tML=13361 \tTW=12529\n",
      "    球赛/Na: \tML=1988 \tTW=2643\n",
      "    对阵/Na: \tML=0 \tTW=0\n",
      "    对垒/Na: \tML=0 \tTW=0\n"
     ]
    }
   ],
   "source": [
    "for key in ConceptsVariants:\n",
    "    print(key, ':')\n",
    "    for i in ConceptsVariants[key]:\n",
    "        if i in vocab_ml:\n",
    "            frq_ml = vocab_ml[i]\n",
    "        else:\n",
    "            frq_ml = 0\n",
    "        if i in vocab_tw:\n",
    "            frq_tw = vocab_tw[i]\n",
    "        else:\n",
    "            frq_tw = 0\n",
    "            \n",
    "        p_str = '    %s: \\tML=%d \\tTW=%d' % (i, frq_ml, frq_tw)\n",
    "        print(p_str)"
   ]
  }
 ],
 "metadata": {
  "kernelspec": {
   "display_name": "Python 3",
   "language": "python",
   "name": "python3"
  },
  "language_info": {
   "codemirror_mode": {
    "name": "ipython",
    "version": 3
   },
   "file_extension": ".py",
   "mimetype": "text/x-python",
   "name": "python",
   "nbconvert_exporter": "python",
   "pygments_lexer": "ipython3",
   "version": "3.6.9"
  },
  "toc": {
   "base_numbering": 1,
   "nav_menu": {},
   "number_sections": true,
   "sideBar": true,
   "skip_h1_title": false,
   "title_cell": "Table of Contents",
   "title_sidebar": "Contents",
   "toc_cell": false,
   "toc_position": {},
   "toc_section_display": true,
   "toc_window_display": true
  }
 },
 "nbformat": 4,
 "nbformat_minor": 2
}
