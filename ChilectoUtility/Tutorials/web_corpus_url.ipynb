{
 "cells": [
  {
   "cell_type": "code",
   "execution_count": 1,
   "metadata": {},
   "outputs": [],
   "source": [
    "import re\n",
    "import os\n",
    "from tqdm import trange, tqdm"
   ]
  },
  {
   "cell_type": "code",
   "execution_count": 2,
   "metadata": {},
   "outputs": [],
   "source": [
    "fname_ml=\"/home/projects/semmetrix/chilecto/corp/SketchEngine/zhTenTen_corpus/example_zhTenTen.vert\""
   ]
  },
  {
   "cell_type": "code",
   "execution_count": 3,
   "metadata": {},
   "outputs": [],
   "source": [
    "fname_tw=\"/home/projects/semmetrix/chilecto/corp/SketchEngine/taiwan_corpus/example_chinese_taiwan.vert\""
   ]
  },
  {
   "cell_type": "markdown",
   "metadata": {},
   "source": [
    "# Def"
   ]
  },
  {
   "cell_type": "code",
   "execution_count": 4,
   "metadata": {},
   "outputs": [],
   "source": [
    "def get_url_list(fname):\n",
    "    with open(fname, 'r') as f:\n",
    "        f_str = f.read()\n",
    "        \n",
    "    all_match = re.finditer(r'<doc (.+?)>', f_str)\n",
    "    n_doc = 0\n",
    "    n_url = 0\n",
    "    url_list = []\n",
    "    for match in all_match:\n",
    "        n_doc += 1\n",
    "        url_match = re.findall(r'\"http://(\\S+?)\"', match.group())\n",
    "        url_match = list(set(url_match))\n",
    "        if len(url_match) == 0:\n",
    "            print(f'URL not found for {match.group()}')\n",
    "        else:\n",
    "            if len(url_match) > 1:\n",
    "                print(f'More than one URL found for {match.group()}')\n",
    "\n",
    "            url_list.extend(url_match)\n",
    "\n",
    "    print(f'{len(url_list)} URL found in {n_doc} docs')\n",
    "\n",
    "    return url_list"
   ]
  },
  {
   "cell_type": "code",
   "execution_count": 5,
   "metadata": {},
   "outputs": [],
   "source": [
    "# get_url_list(fname)"
   ]
  },
  {
   "cell_type": "code",
   "execution_count": 6,
   "metadata": {},
   "outputs": [
    {
     "ename": "NameError",
     "evalue": "name 'f_str' is not defined",
     "output_type": "error",
     "traceback": [
      "\u001b[0;31m---------------------------------------------------------------------------\u001b[0m",
      "\u001b[0;31mNameError\u001b[0m                                 Traceback (most recent call last)",
      "\u001b[0;32m<ipython-input-6-0b54337e9896>\u001b[0m in \u001b[0;36m<module>\u001b[0;34m()\u001b[0m\n\u001b[0;32m----> 1\u001b[0;31m \u001b[0mt\u001b[0m \u001b[0;34m=\u001b[0m \u001b[0mre\u001b[0m\u001b[0;34m.\u001b[0m\u001b[0msearch\u001b[0m\u001b[0;34m(\u001b[0m\u001b[0;34mr'<doc (.+?)>(.+?)</doc>'\u001b[0m\u001b[0;34m,\u001b[0m \u001b[0mf_str\u001b[0m\u001b[0;34m,\u001b[0m \u001b[0mre\u001b[0m\u001b[0;34m.\u001b[0m\u001b[0mDOTALL\u001b[0m\u001b[0;34m)\u001b[0m\u001b[0;34m\u001b[0m\u001b[0;34m\u001b[0m\u001b[0m\n\u001b[0m\u001b[1;32m      2\u001b[0m \u001b[0mlen\u001b[0m\u001b[0;34m(\u001b[0m\u001b[0mt\u001b[0m\u001b[0;34m.\u001b[0m\u001b[0mgroup\u001b[0m\u001b[0;34m(\u001b[0m\u001b[0;36m2\u001b[0m\u001b[0;34m)\u001b[0m\u001b[0;34m.\u001b[0m\u001b[0msplit\u001b[0m\u001b[0;34m(\u001b[0m\u001b[0;34m'\\n'\u001b[0m\u001b[0;34m)\u001b[0m\u001b[0;34m)\u001b[0m\u001b[0;34m\u001b[0m\u001b[0;34m\u001b[0m\u001b[0m\n",
      "\u001b[0;31mNameError\u001b[0m: name 'f_str' is not defined"
     ]
    }
   ],
   "source": [
    "t = re.search(r'<doc (.+?)>(.+?)</doc>', f_str, re.DOTALL)\n",
    "len(t.group(2).split('\\n'))"
   ]
  },
  {
   "cell_type": "code",
   "execution_count": 7,
   "metadata": {},
   "outputs": [],
   "source": [
    "def get_file_data(fname, prt=True):\n",
    "\n",
    "    file_data = []\n",
    "    with open(fname, 'r') as f:\n",
    "        f_str = f.read()\n",
    "\n",
    "    doc_match = re.finditer(r'<doc (.+?)>(.+?)</doc>', f_str, re.DOTALL)\n",
    "    n_doc = 0\n",
    "    n_url = 0\n",
    "    for doc in doc_match:\n",
    "        n_doc += 1\n",
    "        info_str = doc.group(1)\n",
    "        url_match = re.findall(r'\"https?://(\\S+?)\"', info_str)\n",
    "        url_match = list(set(url_match))\n",
    "        if len(url_match) == 0:\n",
    "            print(f'URL not found for {info_str}')\n",
    "        else:\n",
    "            if len(url_match) > 1 and prt:\n",
    "                print(f'More than one URL found for {info_str}')\n",
    "                \n",
    "        n_url += len(url_match)       \n",
    "        # number of words\n",
    "        word_list = doc.group(2).split('\\n')\n",
    "        n_word = 0\n",
    "        for word in word_list:\n",
    "            if len(word)==0 or word[0] == '<':\n",
    "                continue\n",
    "            else:\n",
    "                n_word += 1        \n",
    "\n",
    "        doc_data = {'idx': n_doc-1, 'url_list': url_match, 'n_word': n_word}\n",
    "        \n",
    "        file_data.append(doc_data)\n",
    "    if prt:\n",
    "        print(f'{n_url} URL found in {n_doc} docs')\n",
    "\n",
    "    return file_data"
   ]
  },
  {
   "cell_type": "code",
   "execution_count": 21,
   "metadata": {},
   "outputs": [],
   "source": [
    "def search_url(file_data, search_list):\n",
    "    total_word = 0\n",
    "    search_word = 0\n",
    "    for data in file_data:\n",
    "        count = False\n",
    "        for e in search_list:\n",
    "            for url in data['url_list']:\n",
    "                if e in url:\n",
    "                    count = True\n",
    "        if count:\n",
    "            search_word += data['n_word']\n",
    "        total_word += data['n_word']\n",
    "        \n",
    "    p = float(search_word)/float(total_word)*100.0\n",
    "    print(f'{search_word:,}/{total_word:,} ({p:4.2f}%)')"
   ]
  },
  {
   "cell_type": "code",
   "execution_count": 9,
   "metadata": {},
   "outputs": [],
   "source": [
    "def process_fnames(fnames):\n",
    "    with open(fnames, 'r') as f:\n",
    "        file_list = f.readlines()\n",
    "    \n",
    "    output = []\n",
    "    for file in file_list:\n",
    "        output.extend(get_file_data(file.replace('\\n', '')))\n",
    "        \n",
    "    return output"
   ]
  },
  {
   "cell_type": "code",
   "execution_count": 10,
   "metadata": {},
   "outputs": [],
   "source": [
    "def process_file_list(file_list):\n",
    "    \"\"\"\n",
    "    \"\"\"\n",
    "    output = []\n",
    "    for file in tqdm(file_list):\n",
    "        output.extend(get_file_data(file.replace('\\n', ''), prt=False))\n",
    "        \n",
    "    return output"
   ]
  },
  {
   "cell_type": "code",
   "execution_count": 11,
   "metadata": {},
   "outputs": [],
   "source": [
    "def gen_file_list(root_dir):\n",
    "    \"\"\"\n",
    "    \"\"\"\n",
    "    file_list = []\n",
    "    for dirpath, dirnames, filenames in os.walk(root_dir):\n",
    "        for file in filenames:\n",
    "            if file[-4:] == 'vert':\n",
    "                file_list.append(os.path.join(dirpath, file))\n",
    "            \n",
    "    return file_list"
   ]
  },
  {
   "cell_type": "code",
   "execution_count": 12,
   "metadata": {},
   "outputs": [
    {
     "name": "stdout",
     "output_type": "stream",
     "text": [
      "More than one URL found for contenttype=\"text/html\" guessed_charset=\"gb2312\" ip=\"61.132.133.25\" lang_filter_score=\"0.77\" length=\"40095\" timestamp=\"20110427135532\" url=\"http://www1.ahedu.gov.cn/wwmx/\" http_accept_ranges=\"bytes\" http_connection=\"close\" http_content_length=\"39765\" http_content_location=\"http://www1.ahedu.gov.cn/wwmx/index.html\" http_content_type=\"text/html\" http_date=\"Wed, 27 Apr 2011 13:55:36 GMT\" http_etag=\"&quot;98ef7a31a7e3cb1:767&quot;\" http_last_modified=\"Wed, 16 Mar 2011 06:55:53 GMT\" http_server=\"Microsoft-IIS/6.0\" http_x_powered_by=\"ASP.NET\"\n",
      "778 URL found in 777 docs\n"
     ]
    }
   ],
   "source": [
    "file_data_ml = get_file_data(fname_ml)"
   ]
  },
  {
   "cell_type": "code",
   "execution_count": 35,
   "metadata": {},
   "outputs": [
    {
     "name": "stdout",
     "output_type": "stream",
     "text": [
      "25,896/904,543 (2.86%)\n"
     ]
    }
   ],
   "source": [
    "search_url(file_data_ml, ['forum','bbs','blog'])"
   ]
  },
  {
   "cell_type": "code",
   "execution_count": null,
   "metadata": {},
   "outputs": [],
   "source": [
    "file_data_tw = get_file_data(fname_tw)"
   ]
  },
  {
   "cell_type": "code",
   "execution_count": null,
   "metadata": {},
   "outputs": [],
   "source": [
    "search_url(file_data_tw, ['forum','bbs','blog'])"
   ]
  },
  {
   "cell_type": "code",
   "execution_count": null,
   "metadata": {},
   "outputs": [],
   "source": [
    "for item in file_data_ml:\n",
    "    print(item['url_list'])"
   ]
  },
  {
   "cell_type": "code",
   "execution_count": null,
   "metadata": {
    "scrolled": true
   },
   "outputs": [],
   "source": [
    "data_fnames_ml = process_fnames('/home/projects/semmetrix/chilecto/corp/SketchEngine/ml_rand_select_file.fnames')"
   ]
  },
  {
   "cell_type": "code",
   "execution_count": null,
   "metadata": {},
   "outputs": [],
   "source": [
    "data_fnames_tw = process_fnames('/home/projects/semmetrix/chilecto/corp/SketchEngine/tw_rand_select_file.fnames')"
   ]
  },
  {
   "cell_type": "code",
   "execution_count": null,
   "metadata": {},
   "outputs": [],
   "source": [
    "search_url(data_fnames_ml, ['forum','bbs','blog'])"
   ]
  },
  {
   "cell_type": "code",
   "execution_count": null,
   "metadata": {},
   "outputs": [],
   "source": [
    "search_url(data_fnames_ml, ['.gov.','news','.edu.'])"
   ]
  },
  {
   "cell_type": "code",
   "execution_count": null,
   "metadata": {},
   "outputs": [],
   "source": [
    "search_url(data_fnames_tw, ['forum','bbs','blog'])"
   ]
  },
  {
   "cell_type": "code",
   "execution_count": null,
   "metadata": {},
   "outputs": [],
   "source": [
    "search_url(data_fnames_tw, ['.gov.','news','.edu.'])"
   ]
  },
  {
   "cell_type": "code",
   "execution_count": null,
   "metadata": {},
   "outputs": [],
   "source": []
  },
  {
   "cell_type": "code",
   "execution_count": 13,
   "metadata": {},
   "outputs": [],
   "source": [
    "tw_dir = '/home/projects/semmetrix/chilecto/corp/SketchEngine/taiwan_corpus/processed/'\n",
    "ml_dir = '/home/projects/semmetrix/chilecto/corp/SketchEngine/zhTenTen_corpus/processed/'"
   ]
  },
  {
   "cell_type": "code",
   "execution_count": 14,
   "metadata": {
    "scrolled": true
   },
   "outputs": [
    {
     "name": "stderr",
     "output_type": "stream",
     "text": [
      "100%|██████████| 1186/1186 [02:27<00:00,  8.63it/s]\n"
     ]
    }
   ],
   "source": [
    "tw_data = process_file_list(gen_file_list(tw_dir))"
   ]
  },
  {
   "cell_type": "code",
   "execution_count": 15,
   "metadata": {
    "scrolled": true
   },
   "outputs": [
    {
     "name": "stderr",
     "output_type": "stream",
     "text": [
      "100%|██████████| 23364/23364 [52:10<00:00,  7.40it/s]  \n"
     ]
    }
   ],
   "source": [
    "ml_data = process_file_list(gen_file_list(ml_dir))"
   ]
  },
  {
   "cell_type": "code",
   "execution_count": 29,
   "metadata": {},
   "outputs": [
    {
     "name": "stdout",
     "output_type": "stream",
     "text": [
      "1,055,142/349,130,587 (0.30%)\n"
     ]
    }
   ],
   "source": [
    "search_url(tw_data, ['.blog.'])"
   ]
  },
  {
   "cell_type": "code",
   "execution_count": 36,
   "metadata": {},
   "outputs": [
    {
     "name": "stdout",
     "output_type": "stream",
     "text": [
      "28,042,814/349,130,587 (8.03%)\n"
     ]
    }
   ],
   "source": [
    "search_url(tw_data, ['blog'])"
   ]
  },
  {
   "cell_type": "code",
   "execution_count": 26,
   "metadata": {},
   "outputs": [
    {
     "name": "stdout",
     "output_type": "stream",
     "text": [
      "67,571,325/349,130,587 (19.35%)\n"
     ]
    }
   ],
   "source": [
    "search_url(tw_data, ['blog','bbs','forum'])"
   ]
  },
  {
   "cell_type": "code",
   "execution_count": 30,
   "metadata": {},
   "outputs": [
    {
     "name": "stdout",
     "output_type": "stream",
     "text": [
      "34,110,847/6,093,932,135 (0.56%)\n"
     ]
    }
   ],
   "source": [
    "search_url(ml_data, ['.blog.'])"
   ]
  },
  {
   "cell_type": "code",
   "execution_count": 34,
   "metadata": {},
   "outputs": [
    {
     "name": "stdout",
     "output_type": "stream",
     "text": [
      "76,677,540/6,093,932,135 (1.26%)\n"
     ]
    }
   ],
   "source": [
    "search_url(ml_data, ['blog'])"
   ]
  },
  {
   "cell_type": "code",
   "execution_count": 24,
   "metadata": {},
   "outputs": [
    {
     "name": "stdout",
     "output_type": "stream",
     "text": [
      "283,625,620/6,093,932,135 (4.65%)\n"
     ]
    }
   ],
   "source": [
    "search_url(ml_data, ['blog','bbs','forum'])"
   ]
  }
 ],
 "metadata": {
  "kernelspec": {
   "display_name": "Python 3",
   "language": "python",
   "name": "python3"
  },
  "language_info": {
   "codemirror_mode": {
    "name": "ipython",
    "version": 3
   },
   "file_extension": ".py",
   "mimetype": "text/x-python",
   "name": "python",
   "nbconvert_exporter": "python",
   "pygments_lexer": "ipython3",
   "version": "3.6.9"
  }
 },
 "nbformat": 4,
 "nbformat_minor": 4
}
