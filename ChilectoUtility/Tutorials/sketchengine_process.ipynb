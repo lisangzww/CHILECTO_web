{
 "cells": [
  {
   "cell_type": "markdown",
   "metadata": {},
   "source": [
    "# Note: the file paths need to be revised to run this file"
   ]
  },
  {
   "cell_type": "markdown",
   "metadata": {},
   "source": [
    "# Process the sketch engine corpus \n",
    "## Description\n",
    "This file process the sketch engine corpus files, including the following procedures:\n",
    "1. Take the first n-lines of the corpus file, save as an example file for an easy access to the data file text structure\n",
    "2. Check the corpus files for encoding errors\n",
    "3. Split the large data files into smaller one\n",
    "4. Process the split files.  \n",
    "\n",
    "## Requirements\n",
    "The following packages are required:\n",
    "1. pandas\n",
    "2. tqdm\n",
    "3. hanziconv\n",
    "4. ChilectoUtility\n",
    "\n",
    "__Note:__\n",
    "1. Detailed description sections are above the corresponding code section.\n",
    "2. Description is only provided for codes related to the first corpus."
   ]
  },
  {
   "cell_type": "markdown",
   "metadata": {},
   "source": [
    "## Initialize"
   ]
  },
  {
   "cell_type": "markdown",
   "metadata": {},
   "source": [
    "The following section is required if the required package(s) is not located in system search path or the current folder."
   ]
  },
  {
   "cell_type": "code",
   "execution_count": 8,
   "metadata": {},
   "outputs": [],
   "source": [
    "import os\n",
    "import sys\n",
    "package_dir = '/home/projects/semmetrix/chilecto/code'\n",
    "sys.path.insert(0, os.path.abspath(package_dir))"
   ]
  },
  {
   "cell_type": "code",
   "execution_count": 9,
   "metadata": {},
   "outputs": [],
   "source": [
    "# import libs\n",
    "from ChilectoUtility.gen import FileSplit\n",
    "from ChilectoUtility.gen import rand_file_in_dir\n",
    "from ChilectoUtility.processor import SketchengineProcessor"
   ]
  },
  {
   "cell_type": "code",
   "execution_count": 10,
   "metadata": {},
   "outputs": [],
   "source": [
    "# set the file names and output directories \n",
    "corpus_file_1 = '../05_sketchengine/taiwan_corpus/chinese_taiwan.vert' # corpus data file\n",
    "output_name_1 = '../05_sketchengine/taiwan_corpus/example_chinese_taiwan.vert' # example file\n",
    "output_dir_1 = '../05_sketchengine/taiwan_corpus/split/' # directory of split files\n",
    "processed_dir_1 = '../05_sketchengine/taiwan_corpus/processed/' # directory of processed files\n",
    "\n",
    "corpus_file_2 = '../05_sketchengine/zhTenTen_corpus/zhTenTen.vert'\n",
    "output_name_2 = '../05_sketchengine/zhTenTen_corpus/example_zhTenTen.vert'\n",
    "output_dir_2 = '../05_sketchengine/zhTenTen_corpus/split/'\n",
    "processed_dir_2 = '../05_sketchengine/zhTenTen_corpus/processed/'"
   ]
  },
  {
   "cell_type": "markdown",
   "metadata": {},
   "source": [
    "## Get example file and check files"
   ]
  },
  {
   "cell_type": "code",
   "execution_count": 5,
   "metadata": {},
   "outputs": [
    {
     "ename": "NameError",
     "evalue": "name 'FileSplit' is not defined",
     "output_type": "error",
     "traceback": [
      "\u001b[0;31m---------------------------------------------------------------------------\u001b[0m",
      "\u001b[0;31mNameError\u001b[0m                                 Traceback (most recent call last)",
      "\u001b[0;32m<ipython-input-5-959938a150fb>\u001b[0m in \u001b[0;36m<module>\u001b[0;34m\u001b[0m\n\u001b[1;32m      1\u001b[0m \u001b[0;31m# initial FileSplit object\u001b[0m\u001b[0;34m\u001b[0m\u001b[0;34m\u001b[0m\u001b[0;34m\u001b[0m\u001b[0m\n\u001b[0;32m----> 2\u001b[0;31m \u001b[0mfs1\u001b[0m \u001b[0;34m=\u001b[0m \u001b[0mFileSplit\u001b[0m\u001b[0;34m(\u001b[0m\u001b[0mcorpus_file_1\u001b[0m\u001b[0;34m,\u001b[0m \u001b[0moutput_dir_1\u001b[0m\u001b[0;34m)\u001b[0m \u001b[0;31m# data file name and the dir for split files are set at the initialization\u001b[0m\u001b[0;34m\u001b[0m\u001b[0;34m\u001b[0m\u001b[0m\n\u001b[0m\u001b[1;32m      3\u001b[0m \u001b[0mfs2\u001b[0m \u001b[0;34m=\u001b[0m \u001b[0mFileSplit\u001b[0m\u001b[0;34m(\u001b[0m\u001b[0mcorpus_file_2\u001b[0m\u001b[0;34m,\u001b[0m \u001b[0moutput_dir_2\u001b[0m\u001b[0;34m)\u001b[0m\u001b[0;34m\u001b[0m\u001b[0;34m\u001b[0m\u001b[0m\n",
      "\u001b[0;31mNameError\u001b[0m: name 'FileSplit' is not defined"
     ]
    }
   ],
   "source": [
    "# initial FileSplit object\n",
    "fs1 = FileSplit(corpus_file_1, output_dir_1) # data file name and the dir for split files are set at the initialization\n",
    "fs2 = FileSplit(corpus_file_2, output_dir_2)"
   ]
  },
  {
   "cell_type": "code",
   "execution_count": 6,
   "metadata": {},
   "outputs": [
    {
     "name": "stdout",
     "output_type": "stream",
     "text": [
      "Grep the first 10000 line of ../05_sketchengine/taiwan_corpus/chinese_taiwan.vert\n",
      "--->../05_sketchengine/taiwan_corpus/example_chinese_taiwan.vert is created.\n",
      "\n",
      "Grep the first 10000 line of ../05_sketchengine/zhTenTen_corpus/zhTenTen.vert\n",
      "--->../05_sketchengine/zhTenTen_corpus/example_zhTenTen.vert is created.\n",
      "\n"
     ]
    }
   ],
   "source": [
    "num_of_line = 10000 # get the first n line\n",
    "fs1.split_head(num_of_line, output_name_1) # get the example file, file name is defined by output_name_1\n",
    "fs2.split_head(num_of_line, output_name_2)"
   ]
  },
  {
   "cell_type": "markdown",
   "metadata": {},
   "source": [
    "The FileSplit.check_file() function will try to read all lines of the data file. If errors are risen, the function will save the line number and error message to a log file. The log file is named as _CorpusFileName.log_, which is in the same folder as the corpus data file."
   ]
  },
  {
   "cell_type": "code",
   "execution_count": 7,
   "metadata": {},
   "outputs": [],
   "source": [
    "# Check the data file for file reading problem\n",
    "# fs1.check_file()\n",
    "# fs2.check_file() \n",
    "# This will take a long time. And you don't need to run it again"
   ]
  },
  {
   "cell_type": "markdown",
   "metadata": {},
   "source": [
    "The data checking process found 300 lines with encoding errors in the first corpus, which corresponding to 300 words. \n",
    "\n",
    "At this moment, the repairing attempt has not been successful. Considering the number of errors is very small comparing to the total amount of words in the corpus, those lines will be omitted in future analyses. \n",
    "\n",
    "__Note__: those words will be replace by '?' by Python code while reading those lines."
   ]
  },
  {
   "cell_type": "markdown",
   "metadata": {},
   "source": [
    "## Split the data file"
   ]
  },
  {
   "cell_type": "markdown",
   "metadata": {},
   "source": [
    "The large data file will be split into small files at the end of doc sections. Each split file contains a fixed number of doc sections, and the number can be changed while calling the function.\n",
    "\n",
    "The function requires the *end_tag* setting which indicates where the file should be split. It should contain the entire line including the line break '\\n'. "
   ]
  },
  {
   "cell_type": "code",
   "execution_count": 10,
   "metadata": {},
   "outputs": [],
   "source": [
    "# choose the split options\n",
    "end_tag = '</doc>\\n'# the end line of data section\n",
    "num_of_tag = 500  # how many sections in one split file"
   ]
  },
  {
   "cell_type": "markdown",
   "metadata": {},
   "source": [
    "To test the code, the example file generated before can be used instead of the full data file. The following section should be commented out while processing the original corpus data."
   ]
  },
  {
   "cell_type": "code",
   "execution_count": 11,
   "metadata": {},
   "outputs": [],
   "source": [
    "# using the example file for code test\n",
    "fs1 = FileSplit(output_name_1, output_dir_1)\n",
    "fs2 = FileSplit(output_name_1, output_dir_2)\n",
    "# ------------------------------------"
   ]
  },
  {
   "cell_type": "code",
   "execution_count": 12,
   "metadata": {},
   "outputs": [],
   "source": [
    "# set the split options in FileSplit objectes\n",
    "fs1.set_split_tag(end_tag, num_of_tag) # set the split options in FileSplit object\n",
    "fs2.set_split_tag(end_tag, num_of_tag*15)   # for zhTenTen corpus, the num_of_tag is \n",
    "                                            # increased to avoid too many split files"
   ]
  },
  {
   "cell_type": "code",
   "execution_count": 13,
   "metadata": {},
   "outputs": [
    {
     "name": "stdout",
     "output_type": "stream",
     "text": [
      "Splitting file ../05_sketchengine/taiwan_corpus/example_chinese_taiwan.vert by tag. In process ......\n",
      "    1 files are created\n",
      "\n",
      "Splitting file ../05_sketchengine/taiwan_corpus/example_chinese_taiwan.vert by tag. In process ......\n",
      "    1 files are created\n",
      "\n"
     ]
    }
   ],
   "source": [
    "# split the file\n",
    "fs1.split_tag() \n",
    "fs2.split_tag()"
   ]
  },
  {
   "cell_type": "markdown",
   "metadata": {},
   "source": [
    "## Process the split files"
   ]
  },
  {
   "cell_type": "markdown",
   "metadata": {},
   "source": [
    "The *SketchengineProcessor* class is used to process the sketch engine data files"
   ]
  },
  {
   "cell_type": "code",
   "execution_count": 15,
   "metadata": {},
   "outputs": [],
   "source": [
    "# initialize the processor objects. \n",
    "sp_1 = SketchengineProcessor(output_dir_1, processed_dir_1)\n",
    "sp_2 = SketchengineProcessor(output_dir_2, processed_dir_2)"
   ]
  },
  {
   "cell_type": "code",
   "execution_count": 16,
   "metadata": {},
   "outputs": [
    {
     "name": "stdout",
     "output_type": "stream",
     "text": [
      "Processing files in folder: ../05_sketchengine/taiwan_corpus/split/\n"
     ]
    },
    {
     "name": "stderr",
     "output_type": "stream",
     "text": [
      "100%|█████████████████████████████████████████████████████████████████████████████████████████████████████████████████████████████████████████████████████████████████████████████████████████████████████████| 6/6 [00:05<00:00,  1.17it/s]\n"
     ]
    },
    {
     "name": "stdout",
     "output_type": "stream",
     "text": [
      "    --> Processing finished.\n",
      "Processing files in folder: ../05_sketchengine/zhTenTen_corpus/split/\n"
     ]
    },
    {
     "name": "stderr",
     "output_type": "stream",
     "text": [
      "100%|█████████████████████████████████████████████████████████████████████████████████████████████████████████████████████████████████████████████████████████████████████████████████████████████████████████| 6/6 [00:05<00:00,  1.14it/s]\n"
     ]
    },
    {
     "name": "stdout",
     "output_type": "stream",
     "text": [
      "    --> Processing finished.\n"
     ]
    },
    {
     "data": {
      "text/plain": [
       "[0.09132051467895508,\n",
       " 4.991447925567627,\n",
       " 4.457061052322388,\n",
       " 4.447014093399048,\n",
       " 3.795661687850952,\n",
       " 0.5930333137512207]"
      ]
     },
     "execution_count": 16,
     "metadata": {},
     "output_type": "execute_result"
    }
   ],
   "source": [
    "# Run the process. The output values are time costed by processing each file.\n",
    "sp_1.dir_process()\n",
    "sp_2.dir_process()"
   ]
  },
  {
   "cell_type": "markdown",
   "metadata": {},
   "source": [
    "## End of file"
   ]
  },
  {
   "cell_type": "code",
   "execution_count": null,
   "metadata": {},
   "outputs": [],
   "source": []
  },
  {
   "cell_type": "code",
   "execution_count": null,
   "metadata": {},
   "outputs": [],
   "source": []
  }
 ],
 "metadata": {
  "kernelspec": {
   "display_name": "Python 3",
   "language": "python",
   "name": "python3"
  },
  "language_info": {
   "codemirror_mode": {
    "name": "ipython",
    "version": 3
   },
   "file_extension": ".py",
   "mimetype": "text/x-python",
   "name": "python",
   "nbconvert_exporter": "python",
   "pygments_lexer": "ipython3",
   "version": "3.6.9"
  },
  "toc": {
   "base_numbering": 1,
   "nav_menu": {},
   "number_sections": true,
   "sideBar": true,
   "skip_h1_title": false,
   "title_cell": "Table of Contents",
   "title_sidebar": "Contents",
   "toc_cell": false,
   "toc_position": {},
   "toc_section_display": true,
   "toc_window_display": false
  }
 },
 "nbformat": 4,
 "nbformat_minor": 2
}
