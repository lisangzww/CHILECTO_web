{
 "cells": [
  {
   "cell_type": "markdown",
   "metadata": {},
   "source": [
    "# WordNet Class\n",
    "## 1. Description\n",
    "A *WordNet* class is defined in *ChilectoUtility.processor*. This class is used to process wordnet data file in XML format.\n",
    "\n",
    "__Note:__\n"
   ]
  },
  {
   "cell_type": "markdown",
   "metadata": {},
   "source": [
    "## 2. Initialize\n",
    "The following section is required if the required package(s) is not located in system search path or the current folder."
   ]
  },
  {
   "cell_type": "code",
   "execution_count": 2,
   "metadata": {},
   "outputs": [],
   "source": [
    "import os\n",
    "import sys\n",
    "package_dir = '../../' # the location of the ChilectoUtility package\n",
    "sys.path.insert(0, os.path.abspath(package_dir))"
   ]
  },
  {
   "cell_type": "code",
   "execution_count": 3,
   "metadata": {},
   "outputs": [],
   "source": [
    "# import libs\n",
    "from ChilectoUtility.processor import WordNet"
   ]
  },
  {
   "cell_type": "markdown",
   "metadata": {},
   "source": [
    "## 3. Process example\n",
    "### Set file path"
   ]
  },
  {
   "cell_type": "code",
   "execution_count": 4,
   "metadata": {},
   "outputs": [],
   "source": [
    "# root path of file\n",
    "root_dir = '/home/Documents/01_Personal/05_Weiwei/01_Corpus/04_Wordnet/'\n",
    "\n",
    "# file of frequency list\n",
    "vocab_file_name = root_dir + 'zbn_sg.type.vocab'\n",
    "\n",
    "# data file of wordnet\n",
    "chinese_wordnet_file = root_dir + 'ChineseWordnet/cwn_16_201002.xml'\n",
    "# output file for wordnet\n",
    "chinese_wordnet_output = root_dir + 'ChineseWordnet_output.csv'\n",
    "\n",
    "# data file of open wordnet\n",
    "open_wordnet_file = root_dir + 'OpenWordnet/wn-cmn-lmf.xml'\n",
    "# output file for open wordnet\n",
    "open_wordnet_output = root_dir + 'OpenWordnet_output.csv'"
   ]
  },
  {
   "cell_type": "markdown",
   "metadata": {},
   "source": [
    "### Process"
   ]
  },
  {
   "cell_type": "code",
   "execution_count": 5,
   "metadata": {
    "scrolled": true
   },
   "outputs": [
    {
     "name": "stderr",
     "output_type": "stream",
     "text": [
      "2019-03-05 21:29:46,879 - cu.processor - INFO - Reading entry file: /home/Documents/01_Personal/05_Weiwei/01_Corpus/04_Wordnet/ChineseWordnet/cwn_16_201002.xml\n"
     ]
    },
    {
     "ename": "FileNotFoundError",
     "evalue": "[Errno 2] No such file or directory: '/home/Documents/01_Personal/05_Weiwei/01_Corpus/04_Wordnet/ChineseWordnet/cwn_16_201002.xml'",
     "output_type": "error",
     "traceback": [
      "\u001b[1;31m---------------------------------------------------------------------------\u001b[0m",
      "\u001b[1;31mFileNotFoundError\u001b[0m                         Traceback (most recent call last)",
      "\u001b[1;32m<ipython-input-5-33f7b4c61703>\u001b[0m in \u001b[0;36m<module>\u001b[1;34m\u001b[0m\n\u001b[0;32m      2\u001b[0m \u001b[0mchinese_wordnet\u001b[0m \u001b[1;33m=\u001b[0m \u001b[0mWordNet\u001b[0m\u001b[1;33m(\u001b[0m\u001b[0mchinese_wordnet_file\u001b[0m\u001b[1;33m)\u001b[0m\u001b[1;33m\u001b[0m\u001b[0m\n\u001b[0;32m      3\u001b[0m \u001b[1;31m#Read entry from wordnet XML file\u001b[0m\u001b[1;33m\u001b[0m\u001b[1;33m\u001b[0m\u001b[0m\n\u001b[1;32m----> 4\u001b[1;33m \u001b[0mchinese_wordnet\u001b[0m\u001b[1;33m.\u001b[0m\u001b[0mread_entry\u001b[0m\u001b[1;33m(\u001b[0m\u001b[1;33m)\u001b[0m\u001b[1;33m\u001b[0m\u001b[0m\n\u001b[0m\u001b[0;32m      5\u001b[0m \u001b[1;31m#Read entry frequency\u001b[0m\u001b[1;33m\u001b[0m\u001b[1;33m\u001b[0m\u001b[0m\n\u001b[0;32m      6\u001b[0m \u001b[0mchinese_wordnet\u001b[0m\u001b[1;33m.\u001b[0m\u001b[0mget_entry_freq\u001b[0m\u001b[1;33m(\u001b[0m\u001b[0mvocab_file_name\u001b[0m\u001b[1;33m)\u001b[0m\u001b[1;33m\u001b[0m\u001b[0m\n",
      "\u001b[1;32mD:\\Document\\01_Personal\\05_Weiwei\\01_Corpus\\00_Code\\ChilectoUtility\\processor.py\u001b[0m in \u001b[0;36mread_entry\u001b[1;34m(self, xml_file_name)\u001b[0m\n\u001b[0;32m    272\u001b[0m         \u001b[0mprocessor_logger\u001b[0m\u001b[1;33m.\u001b[0m\u001b[0minfo\u001b[0m\u001b[1;33m(\u001b[0m\u001b[1;34mf'Reading entry file: {self.xml_file_name}'\u001b[0m\u001b[1;33m)\u001b[0m\u001b[1;33m\u001b[0m\u001b[0m\n\u001b[0;32m    273\u001b[0m \u001b[1;33m\u001b[0m\u001b[0m\n\u001b[1;32m--> 274\u001b[1;33m         \u001b[0mtree\u001b[0m \u001b[1;33m=\u001b[0m \u001b[0mET\u001b[0m\u001b[1;33m.\u001b[0m\u001b[0mparse\u001b[0m\u001b[1;33m(\u001b[0m\u001b[0mself\u001b[0m\u001b[1;33m.\u001b[0m\u001b[0mxml_file_name\u001b[0m\u001b[1;33m)\u001b[0m\u001b[1;33m\u001b[0m\u001b[0m\n\u001b[0m\u001b[0;32m    275\u001b[0m         \u001b[0mroot\u001b[0m \u001b[1;33m=\u001b[0m \u001b[0mtree\u001b[0m\u001b[1;33m.\u001b[0m\u001b[0mgetroot\u001b[0m\u001b[1;33m(\u001b[0m\u001b[1;33m)\u001b[0m\u001b[1;33m\u001b[0m\u001b[0m\n\u001b[0;32m    276\u001b[0m \u001b[1;33m\u001b[0m\u001b[0m\n",
      "\u001b[1;32mc:\\users\\jiawan\\appdata\\local\\programs\\python\\python37-32\\lib\\xml\\etree\\ElementTree.py\u001b[0m in \u001b[0;36mparse\u001b[1;34m(source, parser)\u001b[0m\n\u001b[0;32m   1195\u001b[0m     \"\"\"\n\u001b[0;32m   1196\u001b[0m     \u001b[0mtree\u001b[0m \u001b[1;33m=\u001b[0m \u001b[0mElementTree\u001b[0m\u001b[1;33m(\u001b[0m\u001b[1;33m)\u001b[0m\u001b[1;33m\u001b[0m\u001b[0m\n\u001b[1;32m-> 1197\u001b[1;33m     \u001b[0mtree\u001b[0m\u001b[1;33m.\u001b[0m\u001b[0mparse\u001b[0m\u001b[1;33m(\u001b[0m\u001b[0msource\u001b[0m\u001b[1;33m,\u001b[0m \u001b[0mparser\u001b[0m\u001b[1;33m)\u001b[0m\u001b[1;33m\u001b[0m\u001b[0m\n\u001b[0m\u001b[0;32m   1198\u001b[0m     \u001b[1;32mreturn\u001b[0m \u001b[0mtree\u001b[0m\u001b[1;33m\u001b[0m\u001b[0m\n\u001b[0;32m   1199\u001b[0m \u001b[1;33m\u001b[0m\u001b[0m\n",
      "\u001b[1;32mc:\\users\\jiawan\\appdata\\local\\programs\\python\\python37-32\\lib\\xml\\etree\\ElementTree.py\u001b[0m in \u001b[0;36mparse\u001b[1;34m(self, source, parser)\u001b[0m\n\u001b[0;32m    585\u001b[0m         \u001b[0mclose_source\u001b[0m \u001b[1;33m=\u001b[0m \u001b[1;32mFalse\u001b[0m\u001b[1;33m\u001b[0m\u001b[0m\n\u001b[0;32m    586\u001b[0m         \u001b[1;32mif\u001b[0m \u001b[1;32mnot\u001b[0m \u001b[0mhasattr\u001b[0m\u001b[1;33m(\u001b[0m\u001b[0msource\u001b[0m\u001b[1;33m,\u001b[0m \u001b[1;34m\"read\"\u001b[0m\u001b[1;33m)\u001b[0m\u001b[1;33m:\u001b[0m\u001b[1;33m\u001b[0m\u001b[0m\n\u001b[1;32m--> 587\u001b[1;33m             \u001b[0msource\u001b[0m \u001b[1;33m=\u001b[0m \u001b[0mopen\u001b[0m\u001b[1;33m(\u001b[0m\u001b[0msource\u001b[0m\u001b[1;33m,\u001b[0m \u001b[1;34m\"rb\"\u001b[0m\u001b[1;33m)\u001b[0m\u001b[1;33m\u001b[0m\u001b[0m\n\u001b[0m\u001b[0;32m    588\u001b[0m             \u001b[0mclose_source\u001b[0m \u001b[1;33m=\u001b[0m \u001b[1;32mTrue\u001b[0m\u001b[1;33m\u001b[0m\u001b[0m\n\u001b[0;32m    589\u001b[0m         \u001b[1;32mtry\u001b[0m\u001b[1;33m:\u001b[0m\u001b[1;33m\u001b[0m\u001b[0m\n",
      "\u001b[1;31mFileNotFoundError\u001b[0m: [Errno 2] No such file or directory: '/home/Documents/01_Personal/05_Weiwei/01_Corpus/04_Wordnet/ChineseWordnet/cwn_16_201002.xml'"
     ]
    }
   ],
   "source": [
    "#Initial the WordNet object\n",
    "chinese_wordnet = WordNet(chinese_wordnet_file)\n",
    "#Read entry from wordnet XML file\n",
    "chinese_wordnet.read_entry()\n",
    "#Read entry frequency\n",
    "chinese_wordnet.get_entry_freq(vocab_file_name)\n",
    "#Sort entry by frquency\n",
    "chinese_wordnet.sort_entry_freq()\n",
    "#Write entry data to CSV file\n",
    "chinese_wordnet.write_to_file(chinese_wordnet_output)"
   ]
  },
  {
   "cell_type": "code",
   "execution_count": 15,
   "metadata": {},
   "outputs": [
    {
     "name": "stderr",
     "output_type": "stream",
     "text": [
      "2019-01-15 15:25:20,874 - cu.processor - INFO - Convert entry list to dataframe, minimum frq is 500. \n",
      "100%|██████████| 8349/8349 [00:01<00:00, 5058.72it/s]\n"
     ]
    }
   ],
   "source": [
    "chinese_wordnet.convert_to_dataframe(500)"
   ]
  },
  {
   "cell_type": "markdown",
   "metadata": {},
   "source": [
    "## 4. Process both ChineseWordNet and OpenWordNet\n",
    "In this section, both ChineseWordNet and OpenWordNet data will be processed based on frequency files from **ml/sg/tw** corpus.\n",
    "\n",
    "### Set file path\n",
    "The *land_str* is defined corresponding to freq lists from different corpus. It will be used latter in the loop to generated input and output names. "
   ]
  },
  {
   "cell_type": "code",
   "execution_count": 16,
   "metadata": {},
   "outputs": [],
   "source": [
    "# root path of file\n",
    "root_dir = '/home/Documents/01_Personal/05_Weiwei/01_Corpus/04_Wordnet/'\n",
    "\n",
    "# strings for three different freq files. \n",
    "land_str = ['ml', 'sg', 'tw']\n",
    "\n",
    "# data file of wordnet\n",
    "chinese_wordnet_file = root_dir + 'ChineseWordnet/cwn_16_201002.xml'\n",
    "\n",
    "# data file of open wordnet\n",
    "open_wordnet_file = root_dir + 'OpenWordnet/wn-cmn-lmf.xml'\n"
   ]
  },
  {
   "cell_type": "markdown",
   "metadata": {},
   "source": [
    "### Process"
   ]
  },
  {
   "cell_type": "code",
   "execution_count": 18,
   "metadata": {},
   "outputs": [
    {
     "name": "stderr",
     "output_type": "stream",
     "text": [
      "2019-01-15 15:26:14,192 - cu.processor - INFO - Reading entry file: /home/Documents/01_Personal/05_Weiwei/01_Corpus/04_Wordnet/ChineseWordnet/cwn_16_201002.xml\n",
      "100%|██████████| 30899/30899 [00:02<00:00, 14656.23it/s]\n",
      "2019-01-15 15:26:17,233 - cu.processor - INFO - 8349 entries imported.\n"
     ]
    }
   ],
   "source": [
    "#Initial the WordNet object\n",
    "chinese_wordnet = WordNet(chinese_wordnet_file)\n",
    "#Read entry from wordnet XML file (only need to read once)\n",
    "chinese_wordnet.read_entry()"
   ]
  },
  {
   "cell_type": "code",
   "execution_count": 19,
   "metadata": {},
   "outputs": [
    {
     "name": "stderr",
     "output_type": "stream",
     "text": [
      "2019-01-15 15:26:24,908 - cu.processor - INFO - Reading entry file: /home/Documents/01_Personal/05_Weiwei/01_Corpus/04_Wordnet/OpenWordnet/wn-cmn-lmf.xml\n",
      "100%|██████████| 76967/76967 [00:33<00:00, 2287.38it/s] \n",
      "2019-01-15 15:27:00,834 - cu.processor - INFO - 71456 entries imported.\n"
     ]
    }
   ],
   "source": [
    "#Initial the WordNet object\n",
    "open_wordnet = WordNet(open_wordnet_file)\n",
    "#Read entry from wordnet XML file\n",
    "open_wordnet.read_entry()"
   ]
  },
  {
   "cell_type": "code",
   "execution_count": 21,
   "metadata": {},
   "outputs": [
    {
     "name": "stderr",
     "output_type": "stream",
     "text": [
      "2019-01-15 15:27:59,302 - cu.processor - INFO - Reading freq list from /home/Documents/01_Personal/05_Weiwei/01_Corpus/04_Wordnet/wordnet_concept/giga_ml.target.vocab\n",
      "2019-01-15 15:27:59,590 - cu.processor - INFO - Write entry data to /home/Documents/01_Personal/05_Weiwei/01_Corpus/04_Wordnet/output/ChineseWordNet_ml.csv\n",
      "2019-01-15 15:27:59,590 - cu.processor - INFO - Reading freq list from /home/Documents/01_Personal/05_Weiwei/01_Corpus/04_Wordnet/wordnet_concept/giga_ml.target.vocab\n",
      "2019-01-15 15:28:00,157 - cu.processor - INFO - Write entry data to /home/Documents/01_Personal/05_Weiwei/01_Corpus/04_Wordnet/output/ChineseWordNet_ml.csv\n",
      "2019-01-15 15:28:00,158 - cu.processor - INFO - Reading freq list from /home/Documents/01_Personal/05_Weiwei/01_Corpus/04_Wordnet/wordnet_concept/giga_sg.target.vocab\n",
      "2019-01-15 15:28:00,250 - cu.processor - INFO - Write entry data to /home/Documents/01_Personal/05_Weiwei/01_Corpus/04_Wordnet/output/ChineseWordNet_sg.csv\n",
      "2019-01-15 15:28:00,251 - cu.processor - INFO - Reading freq list from /home/Documents/01_Personal/05_Weiwei/01_Corpus/04_Wordnet/wordnet_concept/giga_sg.target.vocab\n",
      "2019-01-15 15:28:00,641 - cu.processor - INFO - Write entry data to /home/Documents/01_Personal/05_Weiwei/01_Corpus/04_Wordnet/output/ChineseWordNet_sg.csv\n",
      "2019-01-15 15:28:00,641 - cu.processor - INFO - Reading freq list from /home/Documents/01_Personal/05_Weiwei/01_Corpus/04_Wordnet/wordnet_concept/giga_tw.target.vocab\n",
      "2019-01-15 15:28:00,982 - cu.processor - INFO - Write entry data to /home/Documents/01_Personal/05_Weiwei/01_Corpus/04_Wordnet/output/ChineseWordNet_tw.csv\n",
      "2019-01-15 15:28:00,982 - cu.processor - INFO - Reading freq list from /home/Documents/01_Personal/05_Weiwei/01_Corpus/04_Wordnet/wordnet_concept/giga_tw.target.vocab\n",
      "2019-01-15 15:28:01,608 - cu.processor - INFO - Write entry data to /home/Documents/01_Personal/05_Weiwei/01_Corpus/04_Wordnet/output/ChineseWordNet_tw.csv\n"
     ]
    }
   ],
   "source": [
    "# A loop to run process for ml/sg/tw\n",
    "for land in land_str:\n",
    "    #The freq file name, used for both ChineseWordnet and OpenWordnet\n",
    "    vocab_file_name = root_dir + 'wordnet_concept/giga_' + land + '.target.vocab'\n",
    "    \n",
    "    #For ChineseWordnet------------\n",
    "    #Output file name\n",
    "    output_file_name = root_dir + 'output/ChineseWordNet_' + land + '.csv'\n",
    "    #Read entry frequency\n",
    "    chinese_wordnet.get_entry_freq(vocab_file_name)\n",
    "    #Sort entry by frquency\n",
    "    # chinese_wordnet.sort_entry_freq()\n",
    "    #Write entry data to CSV file\n",
    "    chinese_wordnet.write_to_file(output_file_name)\n",
    "    \n",
    "    #For OpenWordnet------------\n",
    "    #Output file name\n",
    "    output_filename = root_dir + 'output/OpenWordNet_' + land + '.csv'\n",
    "    #Read entry frequency\n",
    "    open_wordnet.get_entry_freq(vocab_file_name)\n",
    "    #Sort entry by frquency\n",
    "    # open_wordnet.sort_entry_freq()\n",
    "    #Write entry data to CSV file\n",
    "    open_wordnet.write_to_file(output_file_name)    "
   ]
  },
  {
   "cell_type": "code",
   "execution_count": null,
   "metadata": {},
   "outputs": [],
   "source": []
  },
  {
   "cell_type": "code",
   "execution_count": null,
   "metadata": {},
   "outputs": [],
   "source": []
  }
 ],
 "metadata": {
  "kernelspec": {
   "display_name": "Python 3",
   "language": "python",
   "name": "python3"
  },
  "language_info": {
   "codemirror_mode": {
    "name": "ipython",
    "version": 3
   },
   "file_extension": ".py",
   "mimetype": "text/x-python",
   "name": "python",
   "nbconvert_exporter": "python",
   "pygments_lexer": "ipython3",
   "version": "3.7.0"
  }
 },
 "nbformat": 4,
 "nbformat_minor": 2
}
